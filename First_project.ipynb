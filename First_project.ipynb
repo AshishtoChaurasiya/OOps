{
 "cells": [
  {
   "cell_type": "code",
   "execution_count": 5,
   "id": "c93d1778",
   "metadata": {},
   "outputs": [
    {
     "name": "stdout",
     "output_type": "stream",
     "text": [
      "Defaulting to user installation because normal site-packages is not writeable\n",
      "Requirement already satisfied: nlpcloud in /home/youngmanit/.local/lib/python3.8/site-packages (1.0.34)\n",
      "Requirement already satisfied: requests in /usr/lib/python3/dist-packages (from nlpcloud) (2.22.0)\n"
     ]
    }
   ],
   "source": [
    "!pip install nlpcloud"
   ]
  },
  {
   "cell_type": "code",
   "execution_count": 7,
   "id": "0226e745",
   "metadata": {},
   "outputs": [
    {
     "name": "stderr",
     "output_type": "stream",
     "text": [
      "/usr/lib/python3/dist-packages/requests/__init__.py:89: RequestsDependencyWarning: urllib3 (1.26.9) or chardet (3.0.4) doesn't match a supported version!\n",
      "  warnings.warn(\"urllib3 ({}) or chardet ({}) doesn't match a supported \"\n"
     ]
    },
    {
     "name": "stdout",
     "output_type": "stream",
     "text": [
      "\n",
      "        Hi! how would you like to proceed?\n",
      "        1. Not a member? Register\n",
      "        2. Already a member? Login\n",
      "        3. galti se a gya? Exit\n",
      "        1\n",
      "enter nameAshish\n",
      "enter emailchaurasiya1ashish@gmail.com\n",
      "enter passwordAshish@007.\n",
      "registration successful. Now login\n",
      "{'chaurasiya1ashish@gmail.com': ['Ashish', 'Ashish@007.']}\n",
      "\n",
      "        Hi! how would you like to proceed?\n",
      "        1. Not a member? Register\n",
      "        2. Already a member? Login\n",
      "        3. galti se a gya? Exit\n",
      "        1\n",
      "enter nameAman\n",
      "enter emailaman@gmail.com\n",
      "enter passwordaman\n",
      "registration successful. Now login\n",
      "{'chaurasiya1ashish@gmail.com': ['Ashish', 'Ashish@007.'], 'aman@gmail.com': ['Aman', 'aman']}\n",
      "\n",
      "        Hi! how would you like to proceed?\n",
      "        1. Not a member? Register\n",
      "        2. Already a member? Login\n",
      "        3. galti se a gya? Exit\n",
      "        3\n"
     ]
    }
   ],
   "source": [
    "import nlpcloud\n",
    "class NLPApp:\n",
    "    def __init__(self):\n",
    "        self.__database = {}\n",
    "        self.__first_menu()\n",
    "        \n",
    "        \n",
    "    def __first_menu(self):\n",
    "        first_input = input(\"\"\"\n",
    "        Hi! how would you like to proceed?\n",
    "        1. Not a member? Register\n",
    "        2. Already a member? Login\n",
    "        3. galti se a gya? Exit\n",
    "        \"\"\")\n",
    "        if first_input == '1':\n",
    "            self.__register()\n",
    "        elif first_input == '2':\n",
    "            self.__login()\n",
    "        else:\n",
    "            exit()\n",
    "    def __second_menu(self):\n",
    "        second_input = input(\"\"\"\n",
    "        Hi! how would you like to proceed?\n",
    "        1. NER\n",
    "        2. Language Detection\n",
    "        3. Sevtiment Analysis\n",
    "        4. Logout\n",
    "        \"\"\")\n",
    "        if second_input == '1':\n",
    "            self.__ner()\n",
    "        elif second_input == '2':\n",
    "            self.__language_detection()\n",
    "        elif second_input == '3':\n",
    "            self.__sentiment_analysis()\n",
    "        else:\n",
    "            exit()\n",
    "    def __register(self):\n",
    "        \n",
    "        name = input('enter name')\n",
    "        email = input('enter email')\n",
    "        password = input('enter password')\n",
    "        \n",
    "        if email in self.__database:\n",
    "            print('email already exits')\n",
    "        else:\n",
    "            self.__database[email] = [name,password]\n",
    "            print('registration successful. Now login')\n",
    "            print(self.__database)\n",
    "            self.__first_menu()\n",
    "#         print('register')\n",
    "        \n",
    "    def __login(self):\n",
    "        email = input('enter email')\n",
    "        password = input('enter password')\n",
    "        \n",
    "        if email in self.__database:\n",
    "            if self.__database[email][1] == password:\n",
    "                print('login successful')\n",
    "                self.__second_menu()\n",
    "            else:\n",
    "                print('wrong password. Try again')\n",
    "                self.__login()\n",
    "        else:\n",
    "            print('This email is not registread')\n",
    "            self.__first_menu()\n",
    "            \n",
    "#         print('login')\n",
    "    \n",
    "    def __sentiment_analysis(self):\n",
    "        para = input('enter the paragraph')\n",
    "        \n",
    "        client = nlpcloud.Client(\"distilbert-base-uncased-emotion\", \"2b58d7fb9af09e617ee525e78c7766b6d8c5bb61\", gpu=False, lang=\"en\")\n",
    "        response = client.sentiment(para)\n",
    "        \n",
    "        L = []\n",
    "        for i in response['second_labels']:\n",
    "            L.append(i['score'])\n",
    "        index = sorted(list(enumerate(L)),key=lambda x:x[1],reverse = True)[0][0]\n",
    "        print(response['scored_labels'][index]['label'])\n",
    "        self.__second_menu()\n",
    "    \n",
    "obj = NLPApp()"
   ]
  },
  {
   "cell_type": "code",
   "execution_count": null,
   "id": "a81438fa",
   "metadata": {},
   "outputs": [],
   "source": []
  },
  {
   "cell_type": "code",
   "execution_count": null,
   "id": "ebdee532",
   "metadata": {},
   "outputs": [],
   "source": []
  },
  {
   "cell_type": "code",
   "execution_count": null,
   "id": "10451396",
   "metadata": {},
   "outputs": [],
   "source": []
  }
 ],
 "metadata": {
  "kernelspec": {
   "display_name": "Python 3 (ipykernel)",
   "language": "python",
   "name": "python3"
  },
  "language_info": {
   "codemirror_mode": {
    "name": "ipython",
    "version": 3
   },
   "file_extension": ".py",
   "mimetype": "text/x-python",
   "name": "python",
   "nbconvert_exporter": "python",
   "pygments_lexer": "ipython3",
   "version": "3.8.10"
  }
 },
 "nbformat": 4,
 "nbformat_minor": 5
}
